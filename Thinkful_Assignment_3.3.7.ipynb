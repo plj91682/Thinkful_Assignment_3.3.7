{
 "cells": [
  {
   "cell_type": "code",
   "execution_count": 95,
   "metadata": {},
   "outputs": [
    {
     "name": "stdout",
     "output_type": "stream",
     "text": [
      "Ttest_indResult(statistic=25.253322773302319, pvalue=2.0540747868239056e-118)\n"
     ]
    }
   ],
   "source": [
    "# DRILL - Exploring the Central Limit Theorem\n",
    "import numpy as np\n",
    "import pandas as pd\n",
    "import matplotlib.pyplot as plt\n",
    "import scipy.special as sps\n",
    "%matplotlib inline\n",
    "\n",
    "sample_size = 10000\n",
    "\n",
    "# Generate a bernoulli distribution with p = 0.2\n",
    "#pop1 = np.random.binomial(10, .3, sample_size)\n",
    "pop1 = np.random.gamma(2.0, 2.0, sample_size)\n",
    "\n",
    "\n",
    "# Generate a bernoulli distribution with p = 0.5\n",
    "#pop2 = np.random.binomial(10, .5, sample_size)\n",
    "pop2 = np.random.gamma(3.0, 3.0, sample_size)\n",
    "\n",
    "# Using a sample size of 100, calculate the:\n",
    "# means and standard deviations of your samples\n",
    "size = 1000\n",
    "sample1 = np.random.choice(pop1, size, replace=True)\n",
    "sample2 = np.random.choice(pop2, size, replace=True)\n",
    "\n",
    "s1_mean = sample1.mean()\n",
    "s1_stddev = sample1.std()\n",
    "s1_median = np.median(sample1)\n",
    "s2_mean = sample2.mean()\n",
    "s2_stddev = sample2.std()\n",
    "s2_median = np.median(sample2)\n",
    "\n",
    "# t-value use scipy\n",
    "from scipy.stats import ttest_ind\n",
    "print(ttest_ind(sample2, sample1, equal_var=False))\n"
   ]
  },
  {
   "cell_type": "code",
   "execution_count": 96,
   "metadata": {},
   "outputs": [
    {
     "name": "stdout",
     "output_type": "stream",
     "text": [
      "mean, median:  4.07821594229 , 3.4478218857\n"
     ]
    }
   ],
   "source": [
    "print('mean, median: ',s1_mean, ',', s1_median)"
   ]
  },
  {
   "cell_type": "code",
   "execution_count": 97,
   "metadata": {},
   "outputs": [
    {
     "data": {
      "text/plain": [
       "2.9016946858701127"
      ]
     },
     "execution_count": 97,
     "metadata": {},
     "output_type": "execute_result"
    }
   ],
   "source": [
    "s1_stddev"
   ]
  },
  {
   "cell_type": "code",
   "execution_count": 98,
   "metadata": {},
   "outputs": [
    {
     "name": "stdout",
     "output_type": "stream",
     "text": [
      "mean, median:  8.8062410458 , 7.61497427716\n"
     ]
    }
   ],
   "source": [
    "print('mean, median: ',s2_mean, ',', s2_median)"
   ]
  },
  {
   "cell_type": "code",
   "execution_count": 99,
   "metadata": {},
   "outputs": [
    {
     "data": {
      "text/plain": [
       "5.1573148895813938"
      ]
     },
     "execution_count": 99,
     "metadata": {},
     "output_type": "execute_result"
    }
   ],
   "source": [
    "s2_stddev"
   ]
  },
  {
   "cell_type": "code",
   "execution_count": 100,
   "metadata": {},
   "outputs": [
    {
     "data": {
      "image/png": "[encoded data removed]",
      "text/plain": [
       "<matplotlib.figure.Figure at 0x36a18f0>"
      ]
     },
     "metadata": {},
     "output_type": "display_data"
    }
   ],
   "source": [
    "#Plot histogram.\n",
    "plt.hist(sample1)\n",
    "\n",
    "############### plot mean & stddevs\n",
    "# Add a vertical line at the mean.\n",
    "plt.axvline(s1_mean, color='b', linestyle='solid', linewidth=2)\n",
    "\n",
    "# Add a vertical line at one standard deviation above the mean.\n",
    "plt.axvline(s1_mean + s1_stddev, color='b', linestyle='dashed', linewidth=2)\n",
    "\n",
    "# Add a vertical line at one standard deviation below the mean.\n",
    "plt.axvline(s1_mean-s1_stddev, color='b', linestyle='dashed', linewidth=2) \n",
    "\n",
    "\n",
    "# Print the histogram\n",
    "plt.show()"
   ]
  },
  {
   "cell_type": "code",
   "execution_count": 101,
   "metadata": {},
   "outputs": [
    {
     "data": {
      "image/png": "[encoded data removed]",
      "text/plain": [
       "<matplotlib.figure.Figure at 0x36333b0>"
      ]
     },
     "metadata": {},
     "output_type": "display_data"
    }
   ],
   "source": [
    "#Plot histogram.\n",
    "plt.hist(sample2)\n",
    "\n",
    "############### plot mean & stddevs\n",
    "# Add a vertical line at the mean.\n",
    "plt.axvline(s2_mean, color='b', linestyle='solid', linewidth=2)\n",
    "\n",
    "# Add a vertical line at one standard deviation above the mean.\n",
    "plt.axvline(s2_mean + s2_stddev, color='b', linestyle='dashed', linewidth=2)\n",
    "\n",
    "# Add a vertical line at one standard deviation below the mean.\n",
    "plt.axvline(s2_mean-s2_stddev, color='b', linestyle='dashed', linewidth=2) \n",
    "\n",
    "\n",
    "# Print the histogram\n",
    "plt.show()"
   ]
  },
  {
   "cell_type": "code",
   "execution_count": 102,
   "metadata": {
    "collapsed": true
   },
   "outputs": [],
   "source": [
    "# 1.  Increase the size of your samples from 100 to 1000, \n",
    "#     then calculate the means and standard deviations \n",
    "#     for your new samples and create histograms for each. \n",
    "\n",
    "# Answer:\n",
    "#         The larger sample sizes will make the binomial distribution look like a normal distribution\n",
    "\n",
    "# 2.  Repeat this again, decreasing the size of your samples to 20. \n",
    "#     What values change, and what remain the same?\n",
    "\n",
    "# Answer:\n",
    "#       The mean and standard deviations are more likely larger when the sample size is very small.\n",
    "#       The median and means stay very close to each other.\n",
    "#\n",
    "#       The distribution as viewed from the Histogram shows a wide distribution and it does not look like it is\n",
    "#       normally distributed.\n",
    "\n",
    "# 3.  Change the distribution of your populations from binomial to a distribution of your choice. \n",
    "#     Do the sample mean values still accurately represent the population values?\n",
    "#\n",
    "#     Answer:\n",
    "#             I chose the gamma distribution which is not normally distributed.\n",
    "#             The mean & stddev have less meaning for this distribution because\n",
    "#             central tendency is weak."
   ]
  },
  {
   "cell_type": "code",
   "execution_count": 103,
   "metadata": {},
   "outputs": [
    {
     "data": {
      "image/png": "[encoded data removed]",
      "text/plain": [
       "<matplotlib.figure.Figure at 0x36d6b70>"
      ]
     },
     "metadata": {},
     "output_type": "display_data"
    }
   ],
   "source": [
    "plt.hist(sample1, alpha=0.5, label='sample 1') \n",
    "plt.hist(sample2, alpha=0.5, label='sample 2') \n",
    "plt.legend(loc='upper right') \n",
    "plt.show()"
   ]
  },
  {
   "cell_type": "code",
   "execution_count": null,
   "metadata": {
    "collapsed": true
   },
   "outputs": [],
   "source": []
  }
 ],
 "metadata": {
  "kernelspec": {
   "display_name": "Python 3",
   "language": "python",
   "name": "python3"
  },
  "language_info": {
   "codemirror_mode": {
    "name": "ipython",
    "version": 3
   },
   "file_extension": ".py",
   "mimetype": "text/x-python",
   "name": "python",
   "nbconvert_exporter": "python",
   "pygments_lexer": "ipython3",
   "version": "3.6.3"
  }
 },
 "nbformat": 4,
 "nbformat_minor": 2
}
